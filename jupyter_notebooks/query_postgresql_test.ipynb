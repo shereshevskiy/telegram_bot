{
 "cells": [
  {
   "cell_type": "code",
   "execution_count": 1,
   "metadata": {},
   "outputs": [],
   "source": [
    " import os\n",
    "os.chdir(\"..\")\n",
    "\n",
    "%load_ext autoreload\n",
    "%autoreload 2"
   ]
  },
  {
   "cell_type": "code",
   "execution_count": 9,
   "metadata": {},
   "outputs": [],
   "source": [
    "from query.postgresql_query import PostgresqlQuery"
   ]
  },
  {
   "cell_type": "code",
   "execution_count": 10,
   "metadata": {},
   "outputs": [],
   "source": [
    "psql_query = PostgresqlQuery()"
   ]
  },
  {
   "cell_type": "code",
   "execution_count": 11,
   "metadata": {},
   "outputs": [
    {
     "name": "stdout",
     "output_type": "stream",
     "text": [
      "Connecting to HEROKU PostgeSQL database...\n",
      "Connection established.\n",
      "Connection closed\n"
     ]
    },
    {
     "data": {
      "text/plain": [
       "[('places',)]"
      ]
     },
     "execution_count": 11,
     "metadata": {},
     "output_type": "execute_result"
    }
   ],
   "source": [
    "query_text = \"\"\"SELECT table_name FROM information_schema.tables\n",
    "                WHERE table_schema NOT IN ('information_schema','pg_catalog');\"\"\"\n",
    "psql_query.query(query_text)"
   ]
  },
  {
   "cell_type": "code",
   "execution_count": 12,
   "metadata": {},
   "outputs": [
    {
     "data": {
      "text/plain": [
       "('user_id', 'name', 'address', 'photo_id', 'lat', 'lon')"
      ]
     },
     "execution_count": 12,
     "metadata": {},
     "output_type": "execute_result"
    }
   ],
   "source": [
    "psql_query.cols"
   ]
  },
  {
   "cell_type": "code",
   "execution_count": 14,
   "metadata": {},
   "outputs": [
    {
     "name": "stdout",
     "output_type": "stream",
     "text": [
      "Connecting to HEROKU PostgeSQL database...\n",
      "Connection established.\n",
      "Connection closed\n"
     ]
    }
   ],
   "source": [
    "values = (\n",
    "    \"kgfghfhgfhgf\",\n",
    "    \"назв1\",\n",
    "    \"адр1\",\n",
    "    \"jhghjgfkghf\", \n",
    "    \"55.46546546\",\n",
    "    \"39.465434354\"\n",
    ")\n",
    "psql_query.query_insert(values)"
   ]
  },
  {
   "cell_type": "code",
   "execution_count": 15,
   "metadata": {},
   "outputs": [
    {
     "name": "stdout",
     "output_type": "stream",
     "text": [
      "Connecting to HEROKU PostgeSQL database...\n",
      "Connection established.\n",
      "Connection closed\n"
     ]
    }
   ],
   "source": [
    "values = (\n",
    "    \"kgfgjhgjhhfhgfhgf\",\n",
    "    \"назв2\",\n",
    "    \"адр2\",\n",
    "    \"jhghhjgbghjgfkghf\", \n",
    "    \"55.465646546\",\n",
    "    \"39.487934354\"\n",
    ")\n",
    "psql_query.query_insert(values)"
   ]
  },
  {
   "cell_type": "code",
   "execution_count": 17,
   "metadata": {},
   "outputs": [
    {
     "name": "stdout",
     "output_type": "stream",
     "text": [
      "Connecting to HEROKU PostgeSQL database...\n",
      "Connection established.\n",
      "Connection closed\n"
     ]
    },
    {
     "data": {
      "text/plain": [
       "[(1, 'kgfghfhgfhgf', 'назв1', 'адр1', 'jhghjgfkghf', 55.4655, 39.4654),\n",
       " (2,\n",
       "  'kgfgjhgjhhfhgfhgf',\n",
       "  'назв2',\n",
       "  'адр2',\n",
       "  'jhghhjgbghjgfkghf',\n",
       "  55.4656,\n",
       "  39.4879)]"
      ]
     },
     "execution_count": 17,
     "metadata": {},
     "output_type": "execute_result"
    }
   ],
   "source": [
    "query_text = \"\"\"\n",
    "    SELECT * FROM places\n",
    "\"\"\"\n",
    "psql_query.query(query_text)"
   ]
  },
  {
   "cell_type": "code",
   "execution_count": null,
   "metadata": {},
   "outputs": [],
   "source": []
  }
 ],
 "metadata": {
  "kernelspec": {
   "display_name": "Python 3",
   "language": "python",
   "name": "python3"
  },
  "language_info": {
   "codemirror_mode": {
    "name": "ipython",
    "version": 3
   },
   "file_extension": ".py",
   "mimetype": "text/x-python",
   "name": "python",
   "nbconvert_exporter": "python",
   "pygments_lexer": "ipython3",
   "version": "3.7.3"
  }
 },
 "nbformat": 4,
 "nbformat_minor": 4
}
