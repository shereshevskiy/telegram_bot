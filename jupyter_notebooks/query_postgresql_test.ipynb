{
 "cells": [
  {
   "cell_type": "code",
   "execution_count": 1,
   "metadata": {},
   "outputs": [],
   "source": [
    " import os\n",
    "os.chdir(\"..\")\n",
    "\n",
    "%load_ext autoreload\n",
    "%autoreload 2"
   ]
  },
  {
   "cell_type": "code",
   "execution_count": 2,
   "metadata": {},
   "outputs": [],
   "source": [
    "from db.postgresql_query import PostgresqlQuery"
   ]
  },
  {
   "cell_type": "code",
   "execution_count": 3,
   "metadata": {},
   "outputs": [],
   "source": [
    "psql_query = PostgresqlQuery()"
   ]
  },
  {
   "cell_type": "code",
   "execution_count": 5,
   "metadata": {},
   "outputs": [
    {
     "name": "stdout",
     "output_type": "stream",
     "text": [
      "Connecting to HEROKU PostgeSQL database...\n",
      "Connection established.\n",
      "Connection closed\n"
     ]
    },
    {
     "data": {
      "text/plain": [
       "[('places',)]"
      ]
     },
     "execution_count": 5,
     "metadata": {},
     "output_type": "execute_result"
    }
   ],
   "source": [
    "query_text = \"\"\"SELECT table_name FROM information_schema.tables\n",
    "                WHERE table_schema NOT IN ('information_schema','pg_catalog');\"\"\"\n",
    "psql_query.query_fetchall(query_text)"
   ]
  },
  {
   "cell_type": "code",
   "execution_count": 6,
   "metadata": {},
   "outputs": [
    {
     "data": {
      "text/plain": [
       "('user_id', 'name', 'address', 'photo_id', 'lat', 'lon')"
      ]
     },
     "execution_count": 6,
     "metadata": {},
     "output_type": "execute_result"
    }
   ],
   "source": [
    "psql_query.cols"
   ]
  },
  {
   "cell_type": "markdown",
   "metadata": {},
   "source": [
    "## добавление данных"
   ]
  },
  {
   "cell_type": "code",
   "execution_count": 25,
   "metadata": {},
   "outputs": [
    {
     "name": "stdout",
     "output_type": "stream",
     "text": [
      "Connecting to HEROKU PostgeSQL database...\n",
      "Connection established.\n",
      "Connection closed\n"
     ]
    }
   ],
   "source": [
    "values = (\n",
    "    \"kgfghfhgfhgf\",\n",
    "    \"назв1\",\n",
    "    \"адр1\",\n",
    "    \"jhghjgfkghf\", \n",
    "    \"55.46546546\",\n",
    "    \"39.465434354\"\n",
    ")\n",
    "psql_query.query_insert(values)"
   ]
  },
  {
   "cell_type": "code",
   "execution_count": 26,
   "metadata": {},
   "outputs": [
    {
     "name": "stdout",
     "output_type": "stream",
     "text": [
      "Connecting to HEROKU PostgeSQL database...\n",
      "Connection established.\n",
      "Connection closed\n"
     ]
    }
   ],
   "source": [
    "values = (\n",
    "    \"kgfgjhgjhhfhgfhgf\",\n",
    "    \"назв2\",\n",
    "    \"адр2\",\n",
    "    \"jhghhjgbghjgfkghf\", \n",
    "    \"55.465646546\",\n",
    "    \"39.487934354\"\n",
    ")\n",
    "psql_query.query_insert(values)"
   ]
  },
  {
   "cell_type": "markdown",
   "metadata": {},
   "source": [
    "## произвольный запрос"
   ]
  },
  {
   "cell_type": "code",
   "execution_count": 27,
   "metadata": {},
   "outputs": [
    {
     "name": "stdout",
     "output_type": "stream",
     "text": [
      "Connecting to HEROKU PostgeSQL database...\n",
      "Connection established.\n",
      "Connection closed\n"
     ]
    },
    {
     "data": {
      "text/plain": [
       "[(2,\n",
       "  'kgfgjhgjhhfhgfhgf',\n",
       "  'назв2',\n",
       "  'адр2',\n",
       "  'jhghhjgbghjgfkghf',\n",
       "  55.4656,\n",
       "  39.4879),\n",
       " (4,\n",
       "  'kgfgjhgjhhfhgfhgf',\n",
       "  'назв2',\n",
       "  'адр2',\n",
       "  'jhghhjgbghjgfkghf',\n",
       "  55.4656,\n",
       "  39.4879),\n",
       " (6,\n",
       "  'kgfgjhgjhhfhgfhgf',\n",
       "  'назв2',\n",
       "  'адр2',\n",
       "  'jhghhjgbghjgfkghf',\n",
       "  55.4656,\n",
       "  39.4879),\n",
       " (7, 'kgfghfhgfhgf', 'назв1', 'адр1', 'jhghjgfkghf', 55.4655, 39.4654),\n",
       " (8,\n",
       "  'kgfgjhgjhhfhgfhgf',\n",
       "  'назв2',\n",
       "  'адр2',\n",
       "  'jhghhjgbghjgfkghf',\n",
       "  55.4656,\n",
       "  39.4879),\n",
       " (9, 'kgfghfhgfhgf', 'назв1', 'адр1', 'jhghjgfkghf', 55.4655, 39.4654),\n",
       " (10,\n",
       "  'kgfgjhgjhhfhgfhgf',\n",
       "  'назв2',\n",
       "  'адр2',\n",
       "  'jhghhjgbghjgfkghf',\n",
       "  55.4656,\n",
       "  39.4879),\n",
       " (11, 'kgfghfhgfhgf', 'назв1', 'адр1', 'jhghjgfkghf', 55.4655, 39.4654),\n",
       " (12,\n",
       "  'kgfgjhgjhhfhgfhgf',\n",
       "  'назв2',\n",
       "  'адр2',\n",
       "  'jhghhjgbghjgfkghf',\n",
       "  55.4656,\n",
       "  39.4879)]"
      ]
     },
     "execution_count": 27,
     "metadata": {},
     "output_type": "execute_result"
    }
   ],
   "source": [
    "query_text = \"\"\"\n",
    "    SELECT * FROM places\n",
    "\"\"\"\n",
    "psql_query.query_fetchall(query_text)"
   ]
  },
  {
   "cell_type": "markdown",
   "metadata": {},
   "source": [
    "## удаление данных"
   ]
  },
  {
   "cell_type": "code",
   "execution_count": 36,
   "metadata": {},
   "outputs": [
    {
     "name": "stdout",
     "output_type": "stream",
     "text": [
      "Connecting to HEROKU PostgeSQL database...\n",
      "Connection established.\n",
      "Connection closed\n"
     ]
    }
   ],
   "source": [
    "query_text = \"DELETE FROM places as p WHERE p.user_id = 'kgfghfhgfhgf';\"\n",
    "psql_query.query(query_text)"
   ]
  },
  {
   "cell_type": "markdown",
   "metadata": {},
   "source": [
    "#### смотрим результат"
   ]
  },
  {
   "cell_type": "code",
   "execution_count": 37,
   "metadata": {},
   "outputs": [
    {
     "name": "stdout",
     "output_type": "stream",
     "text": [
      "Connecting to HEROKU PostgeSQL database...\n",
      "Connection established.\n",
      "Connection closed\n"
     ]
    },
    {
     "data": {
      "text/plain": [
       "[(2,\n",
       "  'kgfgjhgjhhfhgfhgf',\n",
       "  'назв2',\n",
       "  'адр2',\n",
       "  'jhghhjgbghjgfkghf',\n",
       "  55.4656,\n",
       "  39.4879),\n",
       " (4,\n",
       "  'kgfgjhgjhhfhgfhgf',\n",
       "  'назв2',\n",
       "  'адр2',\n",
       "  'jhghhjgbghjgfkghf',\n",
       "  55.4656,\n",
       "  39.4879),\n",
       " (6,\n",
       "  'kgfgjhgjhhfhgfhgf',\n",
       "  'назв2',\n",
       "  'адр2',\n",
       "  'jhghhjgbghjgfkghf',\n",
       "  55.4656,\n",
       "  39.4879),\n",
       " (7, 'kgfghfhgfhgf', 'назв1', 'адр1', 'jhghjgfkghf', 55.4655, 39.4654),\n",
       " (8,\n",
       "  'kgfgjhgjhhfhgfhgf',\n",
       "  'назв2',\n",
       "  'адр2',\n",
       "  'jhghhjgbghjgfkghf',\n",
       "  55.4656,\n",
       "  39.4879),\n",
       " (9, 'kgfghfhgfhgf', 'назв1', 'адр1', 'jhghjgfkghf', 55.4655, 39.4654),\n",
       " (10,\n",
       "  'kgfgjhgjhhfhgfhgf',\n",
       "  'назв2',\n",
       "  'адр2',\n",
       "  'jhghhjgbghjgfkghf',\n",
       "  55.4656,\n",
       "  39.4879),\n",
       " (11, 'kgfghfhgfhgf', 'назв1', 'адр1', 'jhghjgfkghf', 55.4655, 39.4654),\n",
       " (12,\n",
       "  'kgfgjhgjhhfhgfhgf',\n",
       "  'назв2',\n",
       "  'адр2',\n",
       "  'jhghhjgbghjgfkghf',\n",
       "  55.4656,\n",
       "  39.4879)]"
      ]
     },
     "execution_count": 37,
     "metadata": {},
     "output_type": "execute_result"
    }
   ],
   "source": [
    "psql_query.query_fetchall(\"SELECT * FROM places;\")"
   ]
  },
  {
   "cell_type": "code",
   "execution_count": null,
   "metadata": {},
   "outputs": [],
   "source": []
  }
 ],
 "metadata": {
  "kernelspec": {
   "display_name": "Python 3",
   "language": "python",
   "name": "python3"
  },
  "language_info": {
   "codemirror_mode": {
    "name": "ipython",
    "version": 3
   },
   "file_extension": ".py",
   "mimetype": "text/x-python",
   "name": "python",
   "nbconvert_exporter": "python",
   "pygments_lexer": "ipython3",
   "version": "3.7.3"
  }
 },
 "nbformat": 4,
 "nbformat_minor": 4
}
