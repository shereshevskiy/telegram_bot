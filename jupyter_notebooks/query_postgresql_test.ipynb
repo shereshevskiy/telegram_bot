{
 "cells": [
  {
   "cell_type": "code",
   "execution_count": 5,
   "metadata": {},
   "outputs": [],
   "source": [
    " import os\n",
    "os.chdir(\"..\")\n",
    "\n",
    "%load_ext autoreload\n",
    "%autoreload 2"
   ]
  },
  {
   "cell_type": "code",
   "execution_count": 6,
   "metadata": {},
   "outputs": [],
   "source": [
    "import pandas as pd"
   ]
  },
  {
   "cell_type": "code",
   "execution_count": 7,
   "metadata": {},
   "outputs": [],
   "source": [
    "from db.postgresql_query import DataBase"
   ]
  },
  {
   "cell_type": "code",
   "execution_count": 8,
   "metadata": {},
   "outputs": [],
   "source": [
    "psql_query = DataBase()"
   ]
  },
  {
   "cell_type": "code",
   "execution_count": 5,
   "metadata": {},
   "outputs": [
    {
     "name": "stdout",
     "output_type": "stream",
     "text": [
      "Connecting to HEROKU PostgeSQL database...\n",
      "Connection established.\n",
      "Connection closed\n"
     ]
    },
    {
     "data": {
      "text/plain": [
       "[('places',)]"
      ]
     },
     "execution_count": 5,
     "metadata": {},
     "output_type": "execute_result"
    }
   ],
   "source": [
    "query_text = \"\"\"SELECT table_name FROM information_schema.tables\n",
    "                WHERE table_schema NOT IN ('information_schema','pg_catalog');\"\"\"\n",
    "psql_query.query_fetchall(query_text)"
   ]
  },
  {
   "cell_type": "code",
   "execution_count": 6,
   "metadata": {},
   "outputs": [
    {
     "data": {
      "text/plain": [
       "('id', 'user_id', 'name', 'address', 'photo_id', 'lat', 'lon')"
      ]
     },
     "execution_count": 6,
     "metadata": {},
     "output_type": "execute_result"
    }
   ],
   "source": [
    "psql_query.cols"
   ]
  },
  {
   "cell_type": "markdown",
   "metadata": {},
   "source": [
    "## добавление данных"
   ]
  },
  {
   "cell_type": "code",
   "execution_count": 7,
   "metadata": {},
   "outputs": [
    {
     "name": "stdout",
     "output_type": "stream",
     "text": [
      "Connecting to HEROKU PostgeSQL database...\n",
      "Connection established.\n",
      "Connection closed\n"
     ]
    }
   ],
   "source": [
    "values = (\n",
    "    \"kgfghfhgfhgf\",\n",
    "    \"назв1\",\n",
    "    \"адр1\",\n",
    "    \"jhghjgfkghf\", \n",
    "    \"55.46546546\",\n",
    "    \"39.465434354\"\n",
    ")\n",
    "psql_query.query_insert(values)"
   ]
  },
  {
   "cell_type": "code",
   "execution_count": 22,
   "metadata": {},
   "outputs": [
    {
     "name": "stdout",
     "output_type": "stream",
     "text": [
      "Connecting to HEROKU PostgeSQL database...\n",
      "Connection established.\n",
      "Connection closed\n"
     ]
    }
   ],
   "source": [
    "values = (\n",
    "    \"kgfghfhgfhgf\",\n",
    "    \"назв1\",\n",
    "    \"адр1\",\n",
    "    None, \n",
    "    \"55.46546546\",\n",
    "    \"39.465434354\"\n",
    ")\n",
    "psql_query.query_insert(values)"
   ]
  },
  {
   "cell_type": "code",
   "execution_count": 8,
   "metadata": {},
   "outputs": [
    {
     "name": "stdout",
     "output_type": "stream",
     "text": [
      "Connecting to HEROKU PostgeSQL database...\n",
      "Connection established.\n",
      "Connection closed\n"
     ]
    }
   ],
   "source": [
    "values = (\n",
    "    \"kgfgjhgjhhfhgfhgf\",\n",
    "    \"назв2\",\n",
    "    \"адр2\",\n",
    "    \"jhghhjgbghjgfkghf\", \n",
    "    \"55.465646546\",\n",
    "    \"39.487934354\"\n",
    ")\n",
    "psql_query.query_insert(values)"
   ]
  },
  {
   "cell_type": "markdown",
   "metadata": {},
   "source": [
    "## произвольный запрос"
   ]
  },
  {
   "cell_type": "code",
   "execution_count": 9,
   "metadata": {},
   "outputs": [
    {
     "name": "stdout",
     "output_type": "stream",
     "text": [
      "Connecting to HEROKU PostgeSQL database...\n",
      "Connection established.\n",
      "Connection closed\n"
     ]
    },
    {
     "data": {
      "text/plain": [
       "[(2,\n",
       "  'kgfgjhgjhhfhgfhgf',\n",
       "  'назв2',\n",
       "  'адр2',\n",
       "  'jhghhjgbghjgfkghf',\n",
       "  55.4656,\n",
       "  39.4879),\n",
       " (4,\n",
       "  'kgfgjhgjhhfhgfhgf',\n",
       "  'назв2',\n",
       "  'адр2',\n",
       "  'jhghhjgbghjgfkghf',\n",
       "  55.4656,\n",
       "  39.4879),\n",
       " (6,\n",
       "  'kgfgjhgjhhfhgfhgf',\n",
       "  'назв2',\n",
       "  'адр2',\n",
       "  'jhghhjgbghjgfkghf',\n",
       "  55.4656,\n",
       "  39.4879),\n",
       " (8,\n",
       "  'kgfgjhgjhhfhgfhgf',\n",
       "  'назв2',\n",
       "  'адр2',\n",
       "  'jhghhjgbghjgfkghf',\n",
       "  55.4656,\n",
       "  39.4879),\n",
       " (10,\n",
       "  'kgfgjhgjhhfhgfhgf',\n",
       "  'назв2',\n",
       "  'адр2',\n",
       "  'jhghhjgbghjgfkghf',\n",
       "  55.4656,\n",
       "  39.4879),\n",
       " (12,\n",
       "  'kgfgjhgjhhfhgfhgf',\n",
       "  'назв2',\n",
       "  'адр2',\n",
       "  'jhghhjgbghjgfkghf',\n",
       "  55.4656,\n",
       "  39.4879),\n",
       " (14,\n",
       "  'kgfgjhgjhhfhgfhgf',\n",
       "  'назв2',\n",
       "  'адр2',\n",
       "  'jhghhjgbghjgfkghf',\n",
       "  55.4656,\n",
       "  39.4879),\n",
       " (16,\n",
       "  'kgfgjhgjhhfhgfhgf',\n",
       "  'назв2',\n",
       "  'адр2',\n",
       "  'jhghhjgbghjgfkghf',\n",
       "  55.4656,\n",
       "  39.4879),\n",
       " (17, 'kgfghfhgfhgf', 'назв1', 'адр1', 'jhghjgfkghf', 55.4655, 39.4654),\n",
       " (18,\n",
       "  'kgfgjhgjhhfhgfhgf',\n",
       "  'назв2',\n",
       "  'адр2',\n",
       "  'jhghhjgbghjgfkghf',\n",
       "  55.4656,\n",
       "  39.4879)]"
      ]
     },
     "execution_count": 9,
     "metadata": {},
     "output_type": "execute_result"
    }
   ],
   "source": [
    "query_text = \"\"\"\n",
    "    SELECT * FROM places\n",
    "\"\"\"\n",
    "psql_query.query_fetchall(query_text)"
   ]
  },
  {
   "cell_type": "markdown",
   "metadata": {},
   "source": [
    "## удаление данных"
   ]
  },
  {
   "cell_type": "code",
   "execution_count": 14,
   "metadata": {},
   "outputs": [
    {
     "name": "stdout",
     "output_type": "stream",
     "text": [
      "Connecting to HEROKU PostgeSQL db...\n",
      "Connection established.\n",
      "Connection closed\n"
     ]
    }
   ],
   "source": [
    "user_id = 'kgfghfhgfhgf'\n",
    "query_text = f\"DELETE FROM places as p WHERE p.user_id = %s\"\n",
    "psql_query.query(query_text, (user_id,), commit=True)"
   ]
  },
  {
   "cell_type": "code",
   "execution_count": 15,
   "metadata": {},
   "outputs": [
    {
     "data": {
      "text/plain": [
       "'DELETE FROM places as p WHERE p.user_id = %s'"
      ]
     },
     "execution_count": 15,
     "metadata": {},
     "output_type": "execute_result"
    }
   ],
   "source": [
    "query_text"
   ]
  },
  {
   "cell_type": "markdown",
   "metadata": {},
   "source": [
    "#### смотрим результат"
   ]
  },
  {
   "cell_type": "code",
   "execution_count": 49,
   "metadata": {},
   "outputs": [
    {
     "name": "stdout",
     "output_type": "stream",
     "text": [
      "Connecting to HEROKU PostgeSQL db...\n",
      "Connection established.\n",
      "Connection closed\n"
     ]
    },
    {
     "data": {
      "text/html": [
       "<div>\n",
       "<style scoped>\n",
       "    .dataframe tbody tr th:only-of-type {\n",
       "        vertical-align: middle;\n",
       "    }\n",
       "\n",
       "    .dataframe tbody tr th {\n",
       "        vertical-align: top;\n",
       "    }\n",
       "\n",
       "    .dataframe thead th {\n",
       "        text-align: right;\n",
       "    }\n",
       "</style>\n",
       "<table border=\"1\" class=\"dataframe\">\n",
       "  <thead>\n",
       "    <tr style=\"text-align: right;\">\n",
       "      <th></th>\n",
       "      <th>name</th>\n",
       "      <th>address</th>\n",
       "      <th>photo_id</th>\n",
       "      <th>lat</th>\n",
       "      <th>lon</th>\n",
       "    </tr>\n",
       "  </thead>\n",
       "  <tbody>\n",
       "    <tr>\n",
       "      <td>0</td>\n",
       "      <td>назв4</td>\n",
       "      <td>адр4</td>\n",
       "      <td>None</td>\n",
       "      <td>51.6787</td>\n",
       "      <td>39.2069</td>\n",
       "    </tr>\n",
       "    <tr>\n",
       "      <td>1</td>\n",
       "      <td>назв3</td>\n",
       "      <td>адр3</td>\n",
       "      <td>None</td>\n",
       "      <td>51.6787</td>\n",
       "      <td>39.2069</td>\n",
       "    </tr>\n",
       "    <tr>\n",
       "      <td>2</td>\n",
       "      <td>назв2</td>\n",
       "      <td>адр2</td>\n",
       "      <td>None</td>\n",
       "      <td>51.6787</td>\n",
       "      <td>39.2069</td>\n",
       "    </tr>\n",
       "    <tr>\n",
       "      <td>3</td>\n",
       "      <td>назв2</td>\n",
       "      <td>адр2</td>\n",
       "      <td>jhghhjgbghjgfkghf</td>\n",
       "      <td>55.4656</td>\n",
       "      <td>39.4879</td>\n",
       "    </tr>\n",
       "    <tr>\n",
       "      <td>4</td>\n",
       "      <td>назв2</td>\n",
       "      <td>адр2</td>\n",
       "      <td>jhghhjgbghjgfkghf</td>\n",
       "      <td>55.4656</td>\n",
       "      <td>39.4879</td>\n",
       "    </tr>\n",
       "    <tr>\n",
       "      <td>5</td>\n",
       "      <td>назв2</td>\n",
       "      <td>адр2</td>\n",
       "      <td>jhghhjgbghjgfkghf</td>\n",
       "      <td>55.4656</td>\n",
       "      <td>39.4879</td>\n",
       "    </tr>\n",
       "    <tr>\n",
       "      <td>6</td>\n",
       "      <td>назв2</td>\n",
       "      <td>адр2</td>\n",
       "      <td>jhghhjgbghjgfkghf</td>\n",
       "      <td>55.4656</td>\n",
       "      <td>39.4879</td>\n",
       "    </tr>\n",
       "    <tr>\n",
       "      <td>7</td>\n",
       "      <td>назв2</td>\n",
       "      <td>адр2</td>\n",
       "      <td>jhghhjgbghjgfkghf</td>\n",
       "      <td>55.4656</td>\n",
       "      <td>39.4879</td>\n",
       "    </tr>\n",
       "    <tr>\n",
       "      <td>8</td>\n",
       "      <td>назв2</td>\n",
       "      <td>адр2</td>\n",
       "      <td>jhghhjgbghjgfkghf</td>\n",
       "      <td>55.4656</td>\n",
       "      <td>39.4879</td>\n",
       "    </tr>\n",
       "    <tr>\n",
       "      <td>9</td>\n",
       "      <td>назв2</td>\n",
       "      <td>адр2</td>\n",
       "      <td>jhghhjgbghjgfkghf</td>\n",
       "      <td>55.4656</td>\n",
       "      <td>39.4879</td>\n",
       "    </tr>\n",
       "  </tbody>\n",
       "</table>\n",
       "</div>"
      ],
      "text/plain": [
       "    name address           photo_id      lat      lon\n",
       "0  назв4    адр4               None  51.6787  39.2069\n",
       "1  назв3    адр3               None  51.6787  39.2069\n",
       "2  назв2    адр2               None  51.6787  39.2069\n",
       "3  назв2    адр2  jhghhjgbghjgfkghf  55.4656  39.4879\n",
       "4  назв2    адр2  jhghhjgbghjgfkghf  55.4656  39.4879\n",
       "5  назв2    адр2  jhghhjgbghjgfkghf  55.4656  39.4879\n",
       "6  назв2    адр2  jhghhjgbghjgfkghf  55.4656  39.4879\n",
       "7  назв2    адр2  jhghhjgbghjgfkghf  55.4656  39.4879\n",
       "8  назв2    адр2  jhghhjgbghjgfkghf  55.4656  39.4879\n",
       "9  назв2    адр2  jhghhjgbghjgfkghf  55.4656  39.4879"
      ]
     },
     "execution_count": 49,
     "metadata": {},
     "output_type": "execute_result"
    }
   ],
   "source": [
    "cols = ['name', 'address', 'photo_id', 'lat', 'lon']\n",
    "cols_join = \", \".join(cols)\n",
    "\n",
    "query_text = f\"\"\"\n",
    "    SELECT {cols_join} FROM places ORDER BY id DESC LIMIT 10\n",
    "\"\"\"\n",
    "\n",
    "rows = psql_query.query_fetchall(query_text)\n",
    "df = pd.DataFrame(rows, columns=cols)\n",
    "df"
   ]
  },
  {
   "cell_type": "code",
   "execution_count": 50,
   "metadata": {},
   "outputs": [],
   "source": [
    "df[\"dist\"] = None"
   ]
  },
  {
   "cell_type": "code",
   "execution_count": 61,
   "metadata": {},
   "outputs": [
    {
     "data": {
      "text/html": [
       "<div>\n",
       "<style scoped>\n",
       "    .dataframe tbody tr th:only-of-type {\n",
       "        vertical-align: middle;\n",
       "    }\n",
       "\n",
       "    .dataframe tbody tr th {\n",
       "        vertical-align: top;\n",
       "    }\n",
       "\n",
       "    .dataframe thead th {\n",
       "        text-align: right;\n",
       "    }\n",
       "</style>\n",
       "<table border=\"1\" class=\"dataframe\">\n",
       "  <thead>\n",
       "    <tr style=\"text-align: right;\">\n",
       "      <th></th>\n",
       "      <th>index</th>\n",
       "      <th>name</th>\n",
       "      <th>address</th>\n",
       "      <th>photo_id</th>\n",
       "      <th>lat</th>\n",
       "      <th>lon</th>\n",
       "      <th>dist</th>\n",
       "    </tr>\n",
       "  </thead>\n",
       "  <tbody>\n",
       "    <tr>\n",
       "      <td>0</td>\n",
       "      <td>2</td>\n",
       "      <td>назв2</td>\n",
       "      <td>адр2</td>\n",
       "      <td>нет данных</td>\n",
       "      <td>51.6787</td>\n",
       "      <td>39.2069</td>\n",
       "      <td>нет данных</td>\n",
       "    </tr>\n",
       "    <tr>\n",
       "      <td>1</td>\n",
       "      <td>3</td>\n",
       "      <td>назв2</td>\n",
       "      <td>адр2</td>\n",
       "      <td>jhghhjgbghjgfkghf</td>\n",
       "      <td>55.4656</td>\n",
       "      <td>39.4879</td>\n",
       "      <td>нет данных</td>\n",
       "    </tr>\n",
       "    <tr>\n",
       "      <td>2</td>\n",
       "      <td>4</td>\n",
       "      <td>назв2</td>\n",
       "      <td>адр2</td>\n",
       "      <td>jhghhjgbghjgfkghf</td>\n",
       "      <td>55.4656</td>\n",
       "      <td>39.4879</td>\n",
       "      <td>нет данных</td>\n",
       "    </tr>\n",
       "    <tr>\n",
       "      <td>3</td>\n",
       "      <td>5</td>\n",
       "      <td>назв2</td>\n",
       "      <td>адр2</td>\n",
       "      <td>jhghhjgbghjgfkghf</td>\n",
       "      <td>55.4656</td>\n",
       "      <td>39.4879</td>\n",
       "      <td>нет данных</td>\n",
       "    </tr>\n",
       "    <tr>\n",
       "      <td>4</td>\n",
       "      <td>6</td>\n",
       "      <td>назв2</td>\n",
       "      <td>адр2</td>\n",
       "      <td>jhghhjgbghjgfkghf</td>\n",
       "      <td>55.4656</td>\n",
       "      <td>39.4879</td>\n",
       "      <td>нет данных</td>\n",
       "    </tr>\n",
       "    <tr>\n",
       "      <td>5</td>\n",
       "      <td>7</td>\n",
       "      <td>назв2</td>\n",
       "      <td>адр2</td>\n",
       "      <td>jhghhjgbghjgfkghf</td>\n",
       "      <td>55.4656</td>\n",
       "      <td>39.4879</td>\n",
       "      <td>нет данных</td>\n",
       "    </tr>\n",
       "    <tr>\n",
       "      <td>6</td>\n",
       "      <td>8</td>\n",
       "      <td>назв2</td>\n",
       "      <td>адр2</td>\n",
       "      <td>jhghhjgbghjgfkghf</td>\n",
       "      <td>55.4656</td>\n",
       "      <td>39.4879</td>\n",
       "      <td>нет данных</td>\n",
       "    </tr>\n",
       "    <tr>\n",
       "      <td>7</td>\n",
       "      <td>9</td>\n",
       "      <td>назв2</td>\n",
       "      <td>адр2</td>\n",
       "      <td>jhghhjgbghjgfkghf</td>\n",
       "      <td>55.4656</td>\n",
       "      <td>39.4879</td>\n",
       "      <td>нет данных</td>\n",
       "    </tr>\n",
       "    <tr>\n",
       "      <td>8</td>\n",
       "      <td>1</td>\n",
       "      <td>назв3</td>\n",
       "      <td>адр3</td>\n",
       "      <td>нет данных</td>\n",
       "      <td>51.6787</td>\n",
       "      <td>39.2069</td>\n",
       "      <td>нет данных</td>\n",
       "    </tr>\n",
       "    <tr>\n",
       "      <td>9</td>\n",
       "      <td>0</td>\n",
       "      <td>назв4</td>\n",
       "      <td>адр4</td>\n",
       "      <td>нет данных</td>\n",
       "      <td>51.6787</td>\n",
       "      <td>39.2069</td>\n",
       "      <td>нет данных</td>\n",
       "    </tr>\n",
       "  </tbody>\n",
       "</table>\n",
       "</div>"
      ],
      "text/plain": [
       "   index   name address           photo_id      lat      lon        dist\n",
       "0      2  назв2    адр2         нет данных  51.6787  39.2069  нет данных\n",
       "1      3  назв2    адр2  jhghhjgbghjgfkghf  55.4656  39.4879  нет данных\n",
       "2      4  назв2    адр2  jhghhjgbghjgfkghf  55.4656  39.4879  нет данных\n",
       "3      5  назв2    адр2  jhghhjgbghjgfkghf  55.4656  39.4879  нет данных\n",
       "4      6  назв2    адр2  jhghhjgbghjgfkghf  55.4656  39.4879  нет данных\n",
       "5      7  назв2    адр2  jhghhjgbghjgfkghf  55.4656  39.4879  нет данных\n",
       "6      8  назв2    адр2  jhghhjgbghjgfkghf  55.4656  39.4879  нет данных\n",
       "7      9  назв2    адр2  jhghhjgbghjgfkghf  55.4656  39.4879  нет данных\n",
       "8      1  назв3    адр3         нет данных  51.6787  39.2069  нет данных\n",
       "9      0  назв4    адр4         нет данных  51.6787  39.2069  нет данных"
      ]
     },
     "execution_count": 61,
     "metadata": {},
     "output_type": "execute_result"
    }
   ],
   "source": [
    "df1 = df.sort_values(\"name\").fillna(\"нет данных\")\n",
    "df1.reset_index()"
   ]
  },
  {
   "cell_type": "code",
   "execution_count": 62,
   "metadata": {},
   "outputs": [
    {
     "name": "stdout",
     "output_type": "stream",
     "text": [
      "0 назв2\n",
      "1 назв2\n",
      "2 назв2\n",
      "3 назв2\n",
      "4 назв2\n",
      "5 назв2\n",
      "6 назв2\n",
      "7 назв2\n",
      "8 назв3\n",
      "9 назв4\n"
     ]
    }
   ],
   "source": [
    "for index, row in df1.reset_index().iterrows():\n",
    "    print(index, row[\"name\"])"
   ]
  },
  {
   "cell_type": "code",
   "execution_count": 65,
   "metadata": {},
   "outputs": [
    {
     "data": {
      "text/html": [
       "<div>\n",
       "<style scoped>\n",
       "    .dataframe tbody tr th:only-of-type {\n",
       "        vertical-align: middle;\n",
       "    }\n",
       "\n",
       "    .dataframe tbody tr th {\n",
       "        vertical-align: top;\n",
       "    }\n",
       "\n",
       "    .dataframe thead th {\n",
       "        text-align: right;\n",
       "    }\n",
       "</style>\n",
       "<table border=\"1\" class=\"dataframe\">\n",
       "  <thead>\n",
       "    <tr style=\"text-align: right;\">\n",
       "      <th></th>\n",
       "    </tr>\n",
       "  </thead>\n",
       "  <tbody>\n",
       "  </tbody>\n",
       "</table>\n",
       "</div>"
      ],
      "text/plain": [
       "Empty DataFrame\n",
       "Columns: []\n",
       "Index: []"
      ]
     },
     "execution_count": 65,
     "metadata": {},
     "output_type": "execute_result"
    }
   ],
   "source": [
    "empty_df = pd.DataFrame([])\n",
    "empty_df"
   ]
  },
  {
   "cell_type": "code",
   "execution_count": 74,
   "metadata": {},
   "outputs": [
    {
     "name": "stdout",
     "output_type": "stream",
     "text": [
      "1\n"
     ]
    }
   ],
   "source": [
    "if empty_df.empty:\n",
    "    print(1)"
   ]
  },
  {
   "cell_type": "code",
   "execution_count": 23,
   "metadata": {},
   "outputs": [
    {
     "name": "stdout",
     "output_type": "stream",
     "text": [
      "Connecting to HEROKU PostgeSQL database...\n",
      "Connection established.\n",
      "Connection closed\n"
     ]
    },
    {
     "data": {
      "text/plain": [
       "[(2,\n",
       "  'kgfgjhgjhhfhgfhgf',\n",
       "  'назв2',\n",
       "  'адр2',\n",
       "  'jhghhjgbghjgfkghf',\n",
       "  55.4656,\n",
       "  39.4879),\n",
       " (4,\n",
       "  'kgfgjhgjhhfhgfhgf',\n",
       "  'назв2',\n",
       "  'адр2',\n",
       "  'jhghhjgbghjgfkghf',\n",
       "  55.4656,\n",
       "  39.4879),\n",
       " (6,\n",
       "  'kgfgjhgjhhfhgfhgf',\n",
       "  'назв2',\n",
       "  'адр2',\n",
       "  'jhghhjgbghjgfkghf',\n",
       "  55.4656,\n",
       "  39.4879),\n",
       " (8,\n",
       "  'kgfgjhgjhhfhgfhgf',\n",
       "  'назв2',\n",
       "  'адр2',\n",
       "  'jhghhjgbghjgfkghf',\n",
       "  55.4656,\n",
       "  39.4879),\n",
       " (10,\n",
       "  'kgfgjhgjhhfhgfhgf',\n",
       "  'назв2',\n",
       "  'адр2',\n",
       "  'jhghhjgbghjgfkghf',\n",
       "  55.4656,\n",
       "  39.4879),\n",
       " (12,\n",
       "  'kgfgjhgjhhfhgfhgf',\n",
       "  'назв2',\n",
       "  'адр2',\n",
       "  'jhghhjgbghjgfkghf',\n",
       "  55.4656,\n",
       "  39.4879),\n",
       " (14,\n",
       "  'kgfgjhgjhhfhgfhgf',\n",
       "  'назв2',\n",
       "  'адр2',\n",
       "  'jhghhjgbghjgfkghf',\n",
       "  55.4656,\n",
       "  39.4879),\n",
       " (16,\n",
       "  'kgfgjhgjhhfhgfhgf',\n",
       "  'назв2',\n",
       "  'адр2',\n",
       "  'jhghhjgbghjgfkghf',\n",
       "  55.4656,\n",
       "  39.4879),\n",
       " (18,\n",
       "  'kgfgjhgjhhfhgfhgf',\n",
       "  'назв2',\n",
       "  'адр2',\n",
       "  'jhghhjgbghjgfkghf',\n",
       "  55.4656,\n",
       "  39.4879),\n",
       " (19, 'kgfghfhgfhgf', 'назв1', 'адр1', None, 55.4655, 39.4654)]"
      ]
     },
     "execution_count": 23,
     "metadata": {},
     "output_type": "execute_result"
    }
   ],
   "source": [
    "res = psql_query.query(\"SELECT * FROM places;\", fetchall=True)\n",
    "res"
   ]
  },
  {
   "cell_type": "code",
   "execution_count": 24,
   "metadata": {},
   "outputs": [
    {
     "data": {
      "text/html": [
       "<div>\n",
       "<style scoped>\n",
       "    .dataframe tbody tr th:only-of-type {\n",
       "        vertical-align: middle;\n",
       "    }\n",
       "\n",
       "    .dataframe tbody tr th {\n",
       "        vertical-align: top;\n",
       "    }\n",
       "\n",
       "    .dataframe thead th {\n",
       "        text-align: right;\n",
       "    }\n",
       "</style>\n",
       "<table border=\"1\" class=\"dataframe\">\n",
       "  <thead>\n",
       "    <tr style=\"text-align: right;\">\n",
       "      <th></th>\n",
       "      <th>id</th>\n",
       "      <th>user_id</th>\n",
       "      <th>name</th>\n",
       "      <th>address</th>\n",
       "      <th>photo_id</th>\n",
       "      <th>lat</th>\n",
       "      <th>lon</th>\n",
       "    </tr>\n",
       "  </thead>\n",
       "  <tbody>\n",
       "    <tr>\n",
       "      <td>0</td>\n",
       "      <td>2</td>\n",
       "      <td>kgfgjhgjhhfhgfhgf</td>\n",
       "      <td>назв2</td>\n",
       "      <td>адр2</td>\n",
       "      <td>jhghhjgbghjgfkghf</td>\n",
       "      <td>55.4656</td>\n",
       "      <td>39.4879</td>\n",
       "    </tr>\n",
       "    <tr>\n",
       "      <td>1</td>\n",
       "      <td>4</td>\n",
       "      <td>kgfgjhgjhhfhgfhgf</td>\n",
       "      <td>назв2</td>\n",
       "      <td>адр2</td>\n",
       "      <td>jhghhjgbghjgfkghf</td>\n",
       "      <td>55.4656</td>\n",
       "      <td>39.4879</td>\n",
       "    </tr>\n",
       "    <tr>\n",
       "      <td>2</td>\n",
       "      <td>6</td>\n",
       "      <td>kgfgjhgjhhfhgfhgf</td>\n",
       "      <td>назв2</td>\n",
       "      <td>адр2</td>\n",
       "      <td>jhghhjgbghjgfkghf</td>\n",
       "      <td>55.4656</td>\n",
       "      <td>39.4879</td>\n",
       "    </tr>\n",
       "    <tr>\n",
       "      <td>3</td>\n",
       "      <td>8</td>\n",
       "      <td>kgfgjhgjhhfhgfhgf</td>\n",
       "      <td>назв2</td>\n",
       "      <td>адр2</td>\n",
       "      <td>jhghhjgbghjgfkghf</td>\n",
       "      <td>55.4656</td>\n",
       "      <td>39.4879</td>\n",
       "    </tr>\n",
       "    <tr>\n",
       "      <td>4</td>\n",
       "      <td>10</td>\n",
       "      <td>kgfgjhgjhhfhgfhgf</td>\n",
       "      <td>назв2</td>\n",
       "      <td>адр2</td>\n",
       "      <td>jhghhjgbghjgfkghf</td>\n",
       "      <td>55.4656</td>\n",
       "      <td>39.4879</td>\n",
       "    </tr>\n",
       "    <tr>\n",
       "      <td>5</td>\n",
       "      <td>12</td>\n",
       "      <td>kgfgjhgjhhfhgfhgf</td>\n",
       "      <td>назв2</td>\n",
       "      <td>адр2</td>\n",
       "      <td>jhghhjgbghjgfkghf</td>\n",
       "      <td>55.4656</td>\n",
       "      <td>39.4879</td>\n",
       "    </tr>\n",
       "    <tr>\n",
       "      <td>6</td>\n",
       "      <td>14</td>\n",
       "      <td>kgfgjhgjhhfhgfhgf</td>\n",
       "      <td>назв2</td>\n",
       "      <td>адр2</td>\n",
       "      <td>jhghhjgbghjgfkghf</td>\n",
       "      <td>55.4656</td>\n",
       "      <td>39.4879</td>\n",
       "    </tr>\n",
       "    <tr>\n",
       "      <td>7</td>\n",
       "      <td>16</td>\n",
       "      <td>kgfgjhgjhhfhgfhgf</td>\n",
       "      <td>назв2</td>\n",
       "      <td>адр2</td>\n",
       "      <td>jhghhjgbghjgfkghf</td>\n",
       "      <td>55.4656</td>\n",
       "      <td>39.4879</td>\n",
       "    </tr>\n",
       "    <tr>\n",
       "      <td>8</td>\n",
       "      <td>18</td>\n",
       "      <td>kgfgjhgjhhfhgfhgf</td>\n",
       "      <td>назв2</td>\n",
       "      <td>адр2</td>\n",
       "      <td>jhghhjgbghjgfkghf</td>\n",
       "      <td>55.4656</td>\n",
       "      <td>39.4879</td>\n",
       "    </tr>\n",
       "    <tr>\n",
       "      <td>9</td>\n",
       "      <td>19</td>\n",
       "      <td>kgfghfhgfhgf</td>\n",
       "      <td>назв1</td>\n",
       "      <td>адр1</td>\n",
       "      <td>None</td>\n",
       "      <td>55.4655</td>\n",
       "      <td>39.4654</td>\n",
       "    </tr>\n",
       "  </tbody>\n",
       "</table>\n",
       "</div>"
      ],
      "text/plain": [
       "   id            user_id   name address           photo_id      lat      lon\n",
       "0   2  kgfgjhgjhhfhgfhgf  назв2    адр2  jhghhjgbghjgfkghf  55.4656  39.4879\n",
       "1   4  kgfgjhgjhhfhgfhgf  назв2    адр2  jhghhjgbghjgfkghf  55.4656  39.4879\n",
       "2   6  kgfgjhgjhhfhgfhgf  назв2    адр2  jhghhjgbghjgfkghf  55.4656  39.4879\n",
       "3   8  kgfgjhgjhhfhgfhgf  назв2    адр2  jhghhjgbghjgfkghf  55.4656  39.4879\n",
       "4  10  kgfgjhgjhhfhgfhgf  назв2    адр2  jhghhjgbghjgfkghf  55.4656  39.4879\n",
       "5  12  kgfgjhgjhhfhgfhgf  назв2    адр2  jhghhjgbghjgfkghf  55.4656  39.4879\n",
       "6  14  kgfgjhgjhhfhgfhgf  назв2    адр2  jhghhjgbghjgfkghf  55.4656  39.4879\n",
       "7  16  kgfgjhgjhhfhgfhgf  назв2    адр2  jhghhjgbghjgfkghf  55.4656  39.4879\n",
       "8  18  kgfgjhgjhhfhgfhgf  назв2    адр2  jhghhjgbghjgfkghf  55.4656  39.4879\n",
       "9  19       kgfghfhgfhgf  назв1    адр1               None  55.4655  39.4654"
      ]
     },
     "execution_count": 24,
     "metadata": {},
     "output_type": "execute_result"
    }
   ],
   "source": [
    "df = pd.DataFrame(res, columns=psql_query.cols)\n",
    "df"
   ]
  },
  {
   "cell_type": "code",
   "execution_count": 80,
   "metadata": {},
   "outputs": [
    {
     "data": {
      "text/plain": [
       "'51.6787,39.2069|51.6787,39.2069|51.6787,39.2069|55.4656,39.4879|55.4656,39.4879|55.4656,39.4879|55.4656,39.4879|55.4656,39.4879|55.4656,39.4879|55.4656,39.4879'"
      ]
     },
     "execution_count": 80,
     "metadata": {},
     "output_type": "execute_result"
    }
   ],
   "source": [
    "places_coords = zip(df[\"lat\"], df[\"lon\"])\n",
    "destinations = \"|\".join([','.join([str(place[0]), str(place[1])]) for place in places_coords])\n",
    "destinations"
   ]
  },
  {
   "cell_type": "code",
   "execution_count": 77,
   "metadata": {},
   "outputs": [
    {
     "data": {
      "text/plain": [
       "<zip at 0x1a649a53b48>"
      ]
     },
     "execution_count": 77,
     "metadata": {},
     "output_type": "execute_result"
    }
   ],
   "source": [
    "places_coords"
   ]
  },
  {
   "cell_type": "code",
   "execution_count": 15,
   "metadata": {},
   "outputs": [
    {
     "data": {
      "text/plain": [
       "array([[2, 'kgfgjhgjhhfhgfhgf', 'назв2', 'адр2', 'jhghhjgbghjgfkghf',\n",
       "        55.4656, 39.4879],\n",
       "       [4, 'kgfgjhgjhhfhgfhgf', 'назв2', 'адр2', 'jhghhjgbghjgfkghf',\n",
       "        55.4656, 39.4879],\n",
       "       [6, 'kgfgjhgjhhfhgfhgf', 'назв2', 'адр2', 'jhghhjgbghjgfkghf',\n",
       "        55.4656, 39.4879],\n",
       "       [8, 'kgfgjhgjhhfhgfhgf', 'назв2', 'адр2', 'jhghhjgbghjgfkghf',\n",
       "        55.4656, 39.4879],\n",
       "       [10, 'kgfgjhgjhhfhgfhgf', 'назв2', 'адр2', 'jhghhjgbghjgfkghf',\n",
       "        55.4656, 39.4879],\n",
       "       [12, 'kgfgjhgjhhfhgfhgf', 'назв2', 'адр2', 'jhghhjgbghjgfkghf',\n",
       "        55.4656, 39.4879],\n",
       "       [14, 'kgfgjhgjhhfhgfhgf', 'назв2', 'адр2', 'jhghhjgbghjgfkghf',\n",
       "        55.4656, 39.4879],\n",
       "       [16, 'kgfgjhgjhhfhgfhgf', 'назв2', 'адр2', 'jhghhjgbghjgfkghf',\n",
       "        55.4656, 39.4879],\n",
       "       [18, 'kgfgjhgjhhfhgfhgf', 'назв2', 'адр2', 'jhghhjgbghjgfkghf',\n",
       "        55.4656, 39.4879]], dtype=object)"
      ]
     },
     "execution_count": 15,
     "metadata": {},
     "output_type": "execute_result"
    }
   ],
   "source": [
    "df.values"
   ]
  },
  {
   "cell_type": "code",
   "execution_count": 33,
   "metadata": {},
   "outputs": [
    {
     "data": {
      "text/plain": [
       "False"
      ]
     },
     "execution_count": 33,
     "metadata": {},
     "output_type": "execute_result"
    }
   ],
   "source": [
    "bool(1) and bool(None)"
   ]
  },
  {
   "cell_type": "code",
   "execution_count": 37,
   "metadata": {},
   "outputs": [
    {
     "data": {
      "text/plain": [
       "False"
      ]
     },
     "execution_count": 37,
     "metadata": {},
     "output_type": "execute_result"
    }
   ],
   "source": [
    "bool(3) and bool(None)"
   ]
  },
  {
   "cell_type": "code",
   "execution_count": 81,
   "metadata": {},
   "outputs": [],
   "source": [
    "test = []"
   ]
  },
  {
   "cell_type": "code",
   "execution_count": 82,
   "metadata": {},
   "outputs": [],
   "source": [
    "if test:\n",
    "    print(1)"
   ]
  },
  {
   "cell_type": "code",
   "execution_count": null,
   "metadata": {},
   "outputs": [],
   "source": []
  },
  {
   "cell_type": "code",
   "execution_count": 4,
   "metadata": {},
   "outputs": [
    {
     "data": {
      "text/plain": [
       "[None, None]"
      ]
     },
     "execution_count": 4,
     "metadata": {},
     "output_type": "execute_result"
    }
   ],
   "source": [
    "text = \"555\"\n",
    "try:\n",
    "    coords = [str(float(coord.strip())) for coord in text.split(\",\")]\n",
    "except ValueError:\n",
    "    coords = [None, None]\n",
    "if len(coords) < 2:\n",
    "    coords = [None, None]\n",
    "    \n",
    "coords"
   ]
  },
  {
   "cell_type": "code",
   "execution_count": 27,
   "metadata": {},
   "outputs": [
    {
     "name": "stdout",
     "output_type": "stream",
     "text": [
      "Connecting to HEROKU PostgeSQL db...\n",
      "Connection established.\n",
      "Connection closed\n"
     ]
    },
    {
     "data": {
      "text/html": [
       "<div>\n",
       "<style scoped>\n",
       "    .dataframe tbody tr th:only-of-type {\n",
       "        vertical-align: middle;\n",
       "    }\n",
       "\n",
       "    .dataframe tbody tr th {\n",
       "        vertical-align: top;\n",
       "    }\n",
       "\n",
       "    .dataframe thead th {\n",
       "        text-align: right;\n",
       "    }\n",
       "</style>\n",
       "<table border=\"1\" class=\"dataframe\">\n",
       "  <thead>\n",
       "    <tr style=\"text-align: right;\">\n",
       "      <th></th>\n",
       "      <th>name</th>\n",
       "      <th>address</th>\n",
       "      <th>photo_id</th>\n",
       "      <th>lat</th>\n",
       "      <th>lon</th>\n",
       "    </tr>\n",
       "  </thead>\n",
       "  <tbody>\n",
       "    <tr>\n",
       "      <td>0</td>\n",
       "      <td>ккк</td>\n",
       "      <td>ккк</td>\n",
       "      <td>None</td>\n",
       "      <td>None</td>\n",
       "      <td>None</td>\n",
       "    </tr>\n",
       "  </tbody>\n",
       "</table>\n",
       "</div>"
      ],
      "text/plain": [
       "  name address photo_id   lat   lon\n",
       "0  ккк     ккк     None  None  None"
      ]
     },
     "execution_count": 27,
     "metadata": {},
     "output_type": "execute_result"
    }
   ],
   "source": [
    "limit = 1\n",
    "user_id = '125401706'\n",
    "cols = ['name', 'address', 'photo_id', \"lat\", \"lon\"]\n",
    "cols_join = \", \".join(cols)\n",
    "query_text = f\"\"\"\n",
    "                SELECT {cols_join} FROM places WHERE user_id = %s\n",
    "              \"\"\"\n",
    "query_params = (user_id,)\n",
    "if limit is not None:\n",
    "    query_text += f\"LIMIT %s\"\n",
    "    query_params = (user_id, str(limit))\n",
    "rows = psql_query.query_fetchall(query_text, query_params)\n",
    "places_with_locs = pd.DataFrame(rows, columns=cols)\n",
    "places_with_locs"
   ]
  },
  {
   "cell_type": "code",
   "execution_count": null,
   "metadata": {},
   "outputs": [],
   "source": []
  }
 ],
 "metadata": {
  "kernelspec": {
   "display_name": "Python 3",
   "language": "python",
   "name": "python3"
  },
  "language_info": {
   "codemirror_mode": {
    "name": "ipython",
    "version": 3
   },
   "file_extension": ".py",
   "mimetype": "text/x-python",
   "name": "python",
   "nbconvert_exporter": "python",
   "pygments_lexer": "ipython3",
   "version": "3.7.3"
  }
 },
 "nbformat": 4,
 "nbformat_minor": 4
}
