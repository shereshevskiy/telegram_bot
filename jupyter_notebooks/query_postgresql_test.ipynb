{
 "cells": [
  {
   "cell_type": "code",
   "execution_count": 1,
   "metadata": {},
   "outputs": [],
   "source": [
    " import os\n",
    "os.chdir(\"..\")\n",
    "\n",
    "%load_ext autoreload\n",
    "%autoreload 2"
   ]
  },
  {
   "cell_type": "code",
   "execution_count": 2,
   "metadata": {},
   "outputs": [],
   "source": [
    "import pandas as pd"
   ]
  },
  {
   "cell_type": "code",
   "execution_count": 3,
   "metadata": {},
   "outputs": [],
   "source": [
    "from db.postgresql_query import PostgresqlQuery"
   ]
  },
  {
   "cell_type": "code",
   "execution_count": 4,
   "metadata": {},
   "outputs": [],
   "source": [
    "psql_query = PostgresqlQuery()"
   ]
  },
  {
   "cell_type": "code",
   "execution_count": 5,
   "metadata": {},
   "outputs": [
    {
     "name": "stdout",
     "output_type": "stream",
     "text": [
      "Connecting to HEROKU PostgeSQL database...\n",
      "Connection established.\n",
      "Connection closed\n"
     ]
    },
    {
     "data": {
      "text/plain": [
       "[('places',)]"
      ]
     },
     "execution_count": 5,
     "metadata": {},
     "output_type": "execute_result"
    }
   ],
   "source": [
    "query_text = \"\"\"SELECT table_name FROM information_schema.tables\n",
    "                WHERE table_schema NOT IN ('information_schema','pg_catalog');\"\"\"\n",
    "psql_query.query_fetchall(query_text)"
   ]
  },
  {
   "cell_type": "code",
   "execution_count": 6,
   "metadata": {},
   "outputs": [
    {
     "data": {
      "text/plain": [
       "('id', 'user_id', 'name', 'address', 'photo_id', 'lat', 'lon')"
      ]
     },
     "execution_count": 6,
     "metadata": {},
     "output_type": "execute_result"
    }
   ],
   "source": [
    "psql_query.cols"
   ]
  },
  {
   "cell_type": "markdown",
   "metadata": {},
   "source": [
    "## добавление данных"
   ]
  },
  {
   "cell_type": "code",
   "execution_count": 7,
   "metadata": {},
   "outputs": [
    {
     "name": "stdout",
     "output_type": "stream",
     "text": [
      "Connecting to HEROKU PostgeSQL database...\n",
      "Connection established.\n",
      "Connection closed\n"
     ]
    }
   ],
   "source": [
    "values = (\n",
    "    \"kgfghfhgfhgf\",\n",
    "    \"назв1\",\n",
    "    \"адр1\",\n",
    "    \"jhghjgfkghf\", \n",
    "    \"55.46546546\",\n",
    "    \"39.465434354\"\n",
    ")\n",
    "psql_query.query_insert(values)"
   ]
  },
  {
   "cell_type": "code",
   "execution_count": 22,
   "metadata": {},
   "outputs": [
    {
     "name": "stdout",
     "output_type": "stream",
     "text": [
      "Connecting to HEROKU PostgeSQL database...\n",
      "Connection established.\n",
      "Connection closed\n"
     ]
    }
   ],
   "source": [
    "values = (\n",
    "    \"kgfghfhgfhgf\",\n",
    "    \"назв1\",\n",
    "    \"адр1\",\n",
    "    None, \n",
    "    \"55.46546546\",\n",
    "    \"39.465434354\"\n",
    ")\n",
    "psql_query.query_insert(values)"
   ]
  },
  {
   "cell_type": "code",
   "execution_count": 8,
   "metadata": {},
   "outputs": [
    {
     "name": "stdout",
     "output_type": "stream",
     "text": [
      "Connecting to HEROKU PostgeSQL database...\n",
      "Connection established.\n",
      "Connection closed\n"
     ]
    }
   ],
   "source": [
    "values = (\n",
    "    \"kgfgjhgjhhfhgfhgf\",\n",
    "    \"назв2\",\n",
    "    \"адр2\",\n",
    "    \"jhghhjgbghjgfkghf\", \n",
    "    \"55.465646546\",\n",
    "    \"39.487934354\"\n",
    ")\n",
    "psql_query.query_insert(values)"
   ]
  },
  {
   "cell_type": "markdown",
   "metadata": {},
   "source": [
    "## произвольный запрос"
   ]
  },
  {
   "cell_type": "code",
   "execution_count": 9,
   "metadata": {},
   "outputs": [
    {
     "name": "stdout",
     "output_type": "stream",
     "text": [
      "Connecting to HEROKU PostgeSQL database...\n",
      "Connection established.\n",
      "Connection closed\n"
     ]
    },
    {
     "data": {
      "text/plain": [
       "[(2,\n",
       "  'kgfgjhgjhhfhgfhgf',\n",
       "  'назв2',\n",
       "  'адр2',\n",
       "  'jhghhjgbghjgfkghf',\n",
       "  55.4656,\n",
       "  39.4879),\n",
       " (4,\n",
       "  'kgfgjhgjhhfhgfhgf',\n",
       "  'назв2',\n",
       "  'адр2',\n",
       "  'jhghhjgbghjgfkghf',\n",
       "  55.4656,\n",
       "  39.4879),\n",
       " (6,\n",
       "  'kgfgjhgjhhfhgfhgf',\n",
       "  'назв2',\n",
       "  'адр2',\n",
       "  'jhghhjgbghjgfkghf',\n",
       "  55.4656,\n",
       "  39.4879),\n",
       " (8,\n",
       "  'kgfgjhgjhhfhgfhgf',\n",
       "  'назв2',\n",
       "  'адр2',\n",
       "  'jhghhjgbghjgfkghf',\n",
       "  55.4656,\n",
       "  39.4879),\n",
       " (10,\n",
       "  'kgfgjhgjhhfhgfhgf',\n",
       "  'назв2',\n",
       "  'адр2',\n",
       "  'jhghhjgbghjgfkghf',\n",
       "  55.4656,\n",
       "  39.4879),\n",
       " (12,\n",
       "  'kgfgjhgjhhfhgfhgf',\n",
       "  'назв2',\n",
       "  'адр2',\n",
       "  'jhghhjgbghjgfkghf',\n",
       "  55.4656,\n",
       "  39.4879),\n",
       " (14,\n",
       "  'kgfgjhgjhhfhgfhgf',\n",
       "  'назв2',\n",
       "  'адр2',\n",
       "  'jhghhjgbghjgfkghf',\n",
       "  55.4656,\n",
       "  39.4879),\n",
       " (16,\n",
       "  'kgfgjhgjhhfhgfhgf',\n",
       "  'назв2',\n",
       "  'адр2',\n",
       "  'jhghhjgbghjgfkghf',\n",
       "  55.4656,\n",
       "  39.4879),\n",
       " (17, 'kgfghfhgfhgf', 'назв1', 'адр1', 'jhghjgfkghf', 55.4655, 39.4654),\n",
       " (18,\n",
       "  'kgfgjhgjhhfhgfhgf',\n",
       "  'назв2',\n",
       "  'адр2',\n",
       "  'jhghhjgbghjgfkghf',\n",
       "  55.4656,\n",
       "  39.4879)]"
      ]
     },
     "execution_count": 9,
     "metadata": {},
     "output_type": "execute_result"
    }
   ],
   "source": [
    "query_text = \"\"\"\n",
    "    SELECT * FROM places\n",
    "\"\"\"\n",
    "psql_query.query_fetchall(query_text)"
   ]
  },
  {
   "cell_type": "markdown",
   "metadata": {},
   "source": [
    "## удаление данных"
   ]
  },
  {
   "cell_type": "code",
   "execution_count": 25,
   "metadata": {},
   "outputs": [
    {
     "name": "stdout",
     "output_type": "stream",
     "text": [
      "Connecting to HEROKU PostgeSQL database...\n",
      "Connection established.\n",
      "Connection closed\n"
     ]
    }
   ],
   "source": [
    "user_id = 'kgfghfhgfhgf'\n",
    "query_text = f\"DELETE FROM places as p WHERE p.user_id = '{user_id}';\"\n",
    "psql_query.query(query_text, commit=True)"
   ]
  },
  {
   "cell_type": "code",
   "execution_count": 26,
   "metadata": {},
   "outputs": [
    {
     "data": {
      "text/plain": [
       "\"DELETE FROM places as p WHERE p.user_id = 'kgfghfhgfhgf';\""
      ]
     },
     "execution_count": 26,
     "metadata": {},
     "output_type": "execute_result"
    }
   ],
   "source": [
    "query_text"
   ]
  },
  {
   "cell_type": "markdown",
   "metadata": {},
   "source": [
    "#### смотрим результат"
   ]
  },
  {
   "cell_type": "code",
   "execution_count": 28,
   "metadata": {},
   "outputs": [
    {
     "name": "stdout",
     "output_type": "stream",
     "text": [
      "Connecting to HEROKU PostgeSQL database...\n",
      "Connection established.\n",
      "Connection closed\n"
     ]
    },
    {
     "data": {
      "text/plain": [
       "[('назв2', 'адр2'),\n",
       " ('назв2', 'адр2'),\n",
       " ('назв2', 'адр2'),\n",
       " ('назв2', 'адр2'),\n",
       " ('назв2', 'адр2'),\n",
       " ('назв2', 'адр2'),\n",
       " ('назв2', 'адр2'),\n",
       " ('назв2', 'адр2'),\n",
       " ('назв2', 'адр2')]"
      ]
     },
     "execution_count": 28,
     "metadata": {},
     "output_type": "execute_result"
    }
   ],
   "source": [
    "psql_query.query_fetchall(\"SELECT name, address FROM places\")"
   ]
  },
  {
   "cell_type": "code",
   "execution_count": 23,
   "metadata": {},
   "outputs": [
    {
     "name": "stdout",
     "output_type": "stream",
     "text": [
      "Connecting to HEROKU PostgeSQL database...\n",
      "Connection established.\n",
      "Connection closed\n"
     ]
    },
    {
     "data": {
      "text/plain": [
       "[(2,\n",
       "  'kgfgjhgjhhfhgfhgf',\n",
       "  'назв2',\n",
       "  'адр2',\n",
       "  'jhghhjgbghjgfkghf',\n",
       "  55.4656,\n",
       "  39.4879),\n",
       " (4,\n",
       "  'kgfgjhgjhhfhgfhgf',\n",
       "  'назв2',\n",
       "  'адр2',\n",
       "  'jhghhjgbghjgfkghf',\n",
       "  55.4656,\n",
       "  39.4879),\n",
       " (6,\n",
       "  'kgfgjhgjhhfhgfhgf',\n",
       "  'назв2',\n",
       "  'адр2',\n",
       "  'jhghhjgbghjgfkghf',\n",
       "  55.4656,\n",
       "  39.4879),\n",
       " (8,\n",
       "  'kgfgjhgjhhfhgfhgf',\n",
       "  'назв2',\n",
       "  'адр2',\n",
       "  'jhghhjgbghjgfkghf',\n",
       "  55.4656,\n",
       "  39.4879),\n",
       " (10,\n",
       "  'kgfgjhgjhhfhgfhgf',\n",
       "  'назв2',\n",
       "  'адр2',\n",
       "  'jhghhjgbghjgfkghf',\n",
       "  55.4656,\n",
       "  39.4879),\n",
       " (12,\n",
       "  'kgfgjhgjhhfhgfhgf',\n",
       "  'назв2',\n",
       "  'адр2',\n",
       "  'jhghhjgbghjgfkghf',\n",
       "  55.4656,\n",
       "  39.4879),\n",
       " (14,\n",
       "  'kgfgjhgjhhfhgfhgf',\n",
       "  'назв2',\n",
       "  'адр2',\n",
       "  'jhghhjgbghjgfkghf',\n",
       "  55.4656,\n",
       "  39.4879),\n",
       " (16,\n",
       "  'kgfgjhgjhhfhgfhgf',\n",
       "  'назв2',\n",
       "  'адр2',\n",
       "  'jhghhjgbghjgfkghf',\n",
       "  55.4656,\n",
       "  39.4879),\n",
       " (18,\n",
       "  'kgfgjhgjhhfhgfhgf',\n",
       "  'назв2',\n",
       "  'адр2',\n",
       "  'jhghhjgbghjgfkghf',\n",
       "  55.4656,\n",
       "  39.4879),\n",
       " (19, 'kgfghfhgfhgf', 'назв1', 'адр1', None, 55.4655, 39.4654)]"
      ]
     },
     "execution_count": 23,
     "metadata": {},
     "output_type": "execute_result"
    }
   ],
   "source": [
    "res = psql_query.query(\"SELECT * FROM places;\", fetchall=True)\n",
    "res"
   ]
  },
  {
   "cell_type": "code",
   "execution_count": 24,
   "metadata": {},
   "outputs": [
    {
     "data": {
      "text/html": [
       "<div>\n",
       "<style scoped>\n",
       "    .dataframe tbody tr th:only-of-type {\n",
       "        vertical-align: middle;\n",
       "    }\n",
       "\n",
       "    .dataframe tbody tr th {\n",
       "        vertical-align: top;\n",
       "    }\n",
       "\n",
       "    .dataframe thead th {\n",
       "        text-align: right;\n",
       "    }\n",
       "</style>\n",
       "<table border=\"1\" class=\"dataframe\">\n",
       "  <thead>\n",
       "    <tr style=\"text-align: right;\">\n",
       "      <th></th>\n",
       "      <th>id</th>\n",
       "      <th>user_id</th>\n",
       "      <th>name</th>\n",
       "      <th>address</th>\n",
       "      <th>photo_id</th>\n",
       "      <th>lat</th>\n",
       "      <th>lon</th>\n",
       "    </tr>\n",
       "  </thead>\n",
       "  <tbody>\n",
       "    <tr>\n",
       "      <td>0</td>\n",
       "      <td>2</td>\n",
       "      <td>kgfgjhgjhhfhgfhgf</td>\n",
       "      <td>назв2</td>\n",
       "      <td>адр2</td>\n",
       "      <td>jhghhjgbghjgfkghf</td>\n",
       "      <td>55.4656</td>\n",
       "      <td>39.4879</td>\n",
       "    </tr>\n",
       "    <tr>\n",
       "      <td>1</td>\n",
       "      <td>4</td>\n",
       "      <td>kgfgjhgjhhfhgfhgf</td>\n",
       "      <td>назв2</td>\n",
       "      <td>адр2</td>\n",
       "      <td>jhghhjgbghjgfkghf</td>\n",
       "      <td>55.4656</td>\n",
       "      <td>39.4879</td>\n",
       "    </tr>\n",
       "    <tr>\n",
       "      <td>2</td>\n",
       "      <td>6</td>\n",
       "      <td>kgfgjhgjhhfhgfhgf</td>\n",
       "      <td>назв2</td>\n",
       "      <td>адр2</td>\n",
       "      <td>jhghhjgbghjgfkghf</td>\n",
       "      <td>55.4656</td>\n",
       "      <td>39.4879</td>\n",
       "    </tr>\n",
       "    <tr>\n",
       "      <td>3</td>\n",
       "      <td>8</td>\n",
       "      <td>kgfgjhgjhhfhgfhgf</td>\n",
       "      <td>назв2</td>\n",
       "      <td>адр2</td>\n",
       "      <td>jhghhjgbghjgfkghf</td>\n",
       "      <td>55.4656</td>\n",
       "      <td>39.4879</td>\n",
       "    </tr>\n",
       "    <tr>\n",
       "      <td>4</td>\n",
       "      <td>10</td>\n",
       "      <td>kgfgjhgjhhfhgfhgf</td>\n",
       "      <td>назв2</td>\n",
       "      <td>адр2</td>\n",
       "      <td>jhghhjgbghjgfkghf</td>\n",
       "      <td>55.4656</td>\n",
       "      <td>39.4879</td>\n",
       "    </tr>\n",
       "    <tr>\n",
       "      <td>5</td>\n",
       "      <td>12</td>\n",
       "      <td>kgfgjhgjhhfhgfhgf</td>\n",
       "      <td>назв2</td>\n",
       "      <td>адр2</td>\n",
       "      <td>jhghhjgbghjgfkghf</td>\n",
       "      <td>55.4656</td>\n",
       "      <td>39.4879</td>\n",
       "    </tr>\n",
       "    <tr>\n",
       "      <td>6</td>\n",
       "      <td>14</td>\n",
       "      <td>kgfgjhgjhhfhgfhgf</td>\n",
       "      <td>назв2</td>\n",
       "      <td>адр2</td>\n",
       "      <td>jhghhjgbghjgfkghf</td>\n",
       "      <td>55.4656</td>\n",
       "      <td>39.4879</td>\n",
       "    </tr>\n",
       "    <tr>\n",
       "      <td>7</td>\n",
       "      <td>16</td>\n",
       "      <td>kgfgjhgjhhfhgfhgf</td>\n",
       "      <td>назв2</td>\n",
       "      <td>адр2</td>\n",
       "      <td>jhghhjgbghjgfkghf</td>\n",
       "      <td>55.4656</td>\n",
       "      <td>39.4879</td>\n",
       "    </tr>\n",
       "    <tr>\n",
       "      <td>8</td>\n",
       "      <td>18</td>\n",
       "      <td>kgfgjhgjhhfhgfhgf</td>\n",
       "      <td>назв2</td>\n",
       "      <td>адр2</td>\n",
       "      <td>jhghhjgbghjgfkghf</td>\n",
       "      <td>55.4656</td>\n",
       "      <td>39.4879</td>\n",
       "    </tr>\n",
       "    <tr>\n",
       "      <td>9</td>\n",
       "      <td>19</td>\n",
       "      <td>kgfghfhgfhgf</td>\n",
       "      <td>назв1</td>\n",
       "      <td>адр1</td>\n",
       "      <td>None</td>\n",
       "      <td>55.4655</td>\n",
       "      <td>39.4654</td>\n",
       "    </tr>\n",
       "  </tbody>\n",
       "</table>\n",
       "</div>"
      ],
      "text/plain": [
       "   id            user_id   name address           photo_id      lat      lon\n",
       "0   2  kgfgjhgjhhfhgfhgf  назв2    адр2  jhghhjgbghjgfkghf  55.4656  39.4879\n",
       "1   4  kgfgjhgjhhfhgfhgf  назв2    адр2  jhghhjgbghjgfkghf  55.4656  39.4879\n",
       "2   6  kgfgjhgjhhfhgfhgf  назв2    адр2  jhghhjgbghjgfkghf  55.4656  39.4879\n",
       "3   8  kgfgjhgjhhfhgfhgf  назв2    адр2  jhghhjgbghjgfkghf  55.4656  39.4879\n",
       "4  10  kgfgjhgjhhfhgfhgf  назв2    адр2  jhghhjgbghjgfkghf  55.4656  39.4879\n",
       "5  12  kgfgjhgjhhfhgfhgf  назв2    адр2  jhghhjgbghjgfkghf  55.4656  39.4879\n",
       "6  14  kgfgjhgjhhfhgfhgf  назв2    адр2  jhghhjgbghjgfkghf  55.4656  39.4879\n",
       "7  16  kgfgjhgjhhfhgfhgf  назв2    адр2  jhghhjgbghjgfkghf  55.4656  39.4879\n",
       "8  18  kgfgjhgjhhfhgfhgf  назв2    адр2  jhghhjgbghjgfkghf  55.4656  39.4879\n",
       "9  19       kgfghfhgfhgf  назв1    адр1               None  55.4655  39.4654"
      ]
     },
     "execution_count": 24,
     "metadata": {},
     "output_type": "execute_result"
    }
   ],
   "source": [
    "df = pd.DataFrame(res, columns=psql_query.cols)\n",
    "df"
   ]
  },
  {
   "cell_type": "code",
   "execution_count": 15,
   "metadata": {},
   "outputs": [
    {
     "data": {
      "text/plain": [
       "array([[2, 'kgfgjhgjhhfhgfhgf', 'назв2', 'адр2', 'jhghhjgbghjgfkghf',\n",
       "        55.4656, 39.4879],\n",
       "       [4, 'kgfgjhgjhhfhgfhgf', 'назв2', 'адр2', 'jhghhjgbghjgfkghf',\n",
       "        55.4656, 39.4879],\n",
       "       [6, 'kgfgjhgjhhfhgfhgf', 'назв2', 'адр2', 'jhghhjgbghjgfkghf',\n",
       "        55.4656, 39.4879],\n",
       "       [8, 'kgfgjhgjhhfhgfhgf', 'назв2', 'адр2', 'jhghhjgbghjgfkghf',\n",
       "        55.4656, 39.4879],\n",
       "       [10, 'kgfgjhgjhhfhgfhgf', 'назв2', 'адр2', 'jhghhjgbghjgfkghf',\n",
       "        55.4656, 39.4879],\n",
       "       [12, 'kgfgjhgjhhfhgfhgf', 'назв2', 'адр2', 'jhghhjgbghjgfkghf',\n",
       "        55.4656, 39.4879],\n",
       "       [14, 'kgfgjhgjhhfhgfhgf', 'назв2', 'адр2', 'jhghhjgbghjgfkghf',\n",
       "        55.4656, 39.4879],\n",
       "       [16, 'kgfgjhgjhhfhgfhgf', 'назв2', 'адр2', 'jhghhjgbghjgfkghf',\n",
       "        55.4656, 39.4879],\n",
       "       [18, 'kgfgjhgjhhfhgfhgf', 'назв2', 'адр2', 'jhghhjgbghjgfkghf',\n",
       "        55.4656, 39.4879]], dtype=object)"
      ]
     },
     "execution_count": 15,
     "metadata": {},
     "output_type": "execute_result"
    }
   ],
   "source": [
    "df.values"
   ]
  },
  {
   "cell_type": "code",
   "execution_count": 33,
   "metadata": {},
   "outputs": [
    {
     "data": {
      "text/plain": [
       "False"
      ]
     },
     "execution_count": 33,
     "metadata": {},
     "output_type": "execute_result"
    }
   ],
   "source": [
    "bool(1) and bool(None)"
   ]
  },
  {
   "cell_type": "code",
   "execution_count": 37,
   "metadata": {},
   "outputs": [
    {
     "data": {
      "text/plain": [
       "False"
      ]
     },
     "execution_count": 37,
     "metadata": {},
     "output_type": "execute_result"
    }
   ],
   "source": [
    "bool(3) and bool(None)"
   ]
  },
  {
   "cell_type": "code",
   "execution_count": null,
   "metadata": {},
   "outputs": [],
   "source": []
  }
 ],
 "metadata": {
  "kernelspec": {
   "display_name": "Python 3",
   "language": "python",
   "name": "python3"
  },
  "language_info": {
   "codemirror_mode": {
    "name": "ipython",
    "version": 3
   },
   "file_extension": ".py",
   "mimetype": "text/x-python",
   "name": "python",
   "nbconvert_exporter": "python",
   "pygments_lexer": "ipython3",
   "version": "3.7.3"
  }
 },
 "nbformat": 4,
 "nbformat_minor": 4
}
