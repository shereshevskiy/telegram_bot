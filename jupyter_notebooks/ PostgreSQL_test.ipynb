{
 "cells": [
  {
   "cell_type": "code",
   "execution_count": 4,
   "metadata": {},
   "outputs": [],
   "source": [
    "import psycopg2\n",
    "from contextlib import closing"
   ]
  },
  {
   "cell_type": "code",
   "execution_count": 41,
   "metadata": {},
   "outputs": [],
   "source": [
    "import config"
   ]
  },
  {
   "cell_type": "code",
   "execution_count": 59,
   "metadata": {},
   "outputs": [],
   "source": [
    "config_to_places = dict()\n",
    "config_to_places['dbname'] = config.dbname\n",
    "config_to_places['user'] = config.user\n",
    "config_to_places['password'] = config.password\n",
    "config_to_places['host'] = config.host"
   ]
  },
  {
   "cell_type": "code",
   "execution_count": 47,
   "metadata": {},
   "outputs": [],
   "source": [
    "table = \"places\""
   ]
  },
  {
   "cell_type": "code",
   "execution_count": 61,
   "metadata": {},
   "outputs": [],
   "source": [
    "with closing(psycopg2.connect(**config_to_places)) as conn:\n",
    "    with conn.cursor() as cursor:\n",
    "        cursor.execute(f'SELECT * FROM {table}')\n",
    "        rows = cursor.fetchall()"
   ]
  },
  {
   "cell_type": "code",
   "execution_count": 71,
   "metadata": {},
   "outputs": [
    {
     "data": {
      "text/plain": [
       "'SELECT places FROM places'"
      ]
     },
     "execution_count": 71,
     "metadata": {},
     "output_type": "execute_result"
    }
   ],
   "source": [
    "cols = ['places']\n",
    "cols_join = ', '.join(cols)\n",
    "f'SELECT {cols_join} FROM {table}'"
   ]
  },
  {
   "cell_type": "code",
   "execution_count": 70,
   "metadata": {},
   "outputs": [],
   "source": [
    "def query_from(query_text, query_params=None):\n",
    "    with closing(psycopg2.connect(**config_to_places)) as conn:\n",
    "        with conn.cursor() as cursor:\n",
    "            cursor.execute(query_text, query_params)\n",
    "            rows = cursor.fetchall()\n",
    "    return rows"
   ]
  },
  {
   "cell_type": "code",
   "execution_count": 69,
   "metadata": {},
   "outputs": [],
   "source": [
    "def query_into(query_text, query_params=None):\n",
    "    with closing(psycopg2.connect(**config_to_places)) as conn:\n",
    "        with conn.cursor() as cursor:\n",
    "            cursor.execute(query_text, query_params)\n",
    "        conn.commit() "
   ]
  },
  {
   "cell_type": "code",
   "execution_count": 81,
   "metadata": {},
   "outputs": [
    {
     "data": {
      "text/plain": [
       "[]"
      ]
     },
     "execution_count": 81,
     "metadata": {},
     "output_type": "execute_result"
    }
   ],
   "source": [
    "query_text = f'SELECT %(col)s FROM {table}'\n",
    "query_params = ({\"col\": \"name\"})\n",
    "query_from(query_text, query_params)"
   ]
  },
  {
   "cell_type": "code",
   "execution_count": 90,
   "metadata": {},
   "outputs": [
    {
     "ename": "NotNullViolation",
     "evalue": "ОШИБКА:  нулевое значение в столбце \"id\" нарушает ограничение NOT NULL\nDETAIL:  Ошибочная строка содержит (null, назв1, адрес1, null, null, null, null).\n",
     "output_type": "error",
     "traceback": [
      "\u001b[1;31m---------------------------------------------------------------------------\u001b[0m",
      "\u001b[1;31mNotNullViolation\u001b[0m                          Traceback (most recent call last)",
      "\u001b[1;32m<ipython-input-90-b5d1cda1b6ee>\u001b[0m in \u001b[0;36m<module>\u001b[1;34m\u001b[0m\n\u001b[0;32m      4\u001b[0m \u001b[0mquery_text\u001b[0m \u001b[1;33m=\u001b[0m \u001b[1;34mf\"INSERT INTO {table} ({cols_join}) VALUES (%s, %s)\"\u001b[0m\u001b[1;33m\u001b[0m\u001b[1;33m\u001b[0m\u001b[0m\n\u001b[0;32m      5\u001b[0m \u001b[1;33m\u001b[0m\u001b[0m\n\u001b[1;32m----> 6\u001b[1;33m \u001b[0mquery_into\u001b[0m\u001b[1;33m(\u001b[0m\u001b[0mquery_text\u001b[0m\u001b[1;33m,\u001b[0m \u001b[0mquery_params\u001b[0m\u001b[1;33m)\u001b[0m\u001b[1;33m\u001b[0m\u001b[1;33m\u001b[0m\u001b[0m\n\u001b[0m",
      "\u001b[1;32m<ipython-input-69-9dffbbe78add>\u001b[0m in \u001b[0;36mquery_into\u001b[1;34m(query_text, query_params)\u001b[0m\n\u001b[0;32m      2\u001b[0m     \u001b[1;32mwith\u001b[0m \u001b[0mclosing\u001b[0m\u001b[1;33m(\u001b[0m\u001b[0mpsycopg2\u001b[0m\u001b[1;33m.\u001b[0m\u001b[0mconnect\u001b[0m\u001b[1;33m(\u001b[0m\u001b[1;33m**\u001b[0m\u001b[0mconfig_to_places\u001b[0m\u001b[1;33m)\u001b[0m\u001b[1;33m)\u001b[0m \u001b[1;32mas\u001b[0m \u001b[0mconn\u001b[0m\u001b[1;33m:\u001b[0m\u001b[1;33m\u001b[0m\u001b[1;33m\u001b[0m\u001b[0m\n\u001b[0;32m      3\u001b[0m         \u001b[1;32mwith\u001b[0m \u001b[0mconn\u001b[0m\u001b[1;33m.\u001b[0m\u001b[0mcursor\u001b[0m\u001b[1;33m(\u001b[0m\u001b[1;33m)\u001b[0m \u001b[1;32mas\u001b[0m \u001b[0mcursor\u001b[0m\u001b[1;33m:\u001b[0m\u001b[1;33m\u001b[0m\u001b[1;33m\u001b[0m\u001b[0m\n\u001b[1;32m----> 4\u001b[1;33m             \u001b[0mcursor\u001b[0m\u001b[1;33m.\u001b[0m\u001b[0mexecute\u001b[0m\u001b[1;33m(\u001b[0m\u001b[0mquery_text\u001b[0m\u001b[1;33m,\u001b[0m \u001b[0mquery_params\u001b[0m\u001b[1;33m)\u001b[0m\u001b[1;33m\u001b[0m\u001b[1;33m\u001b[0m\u001b[0m\n\u001b[0m\u001b[0;32m      5\u001b[0m         \u001b[0mconn\u001b[0m\u001b[1;33m.\u001b[0m\u001b[0mcommit\u001b[0m\u001b[1;33m(\u001b[0m\u001b[1;33m)\u001b[0m\u001b[1;33m\u001b[0m\u001b[1;33m\u001b[0m\u001b[0m\n",
      "\u001b[1;31mNotNullViolation\u001b[0m: ОШИБКА:  нулевое значение в столбце \"id\" нарушает ограничение NOT NULL\nDETAIL:  Ошибочная строка содержит (null, назв1, адрес1, null, null, null, null).\n"
     ]
    }
   ],
   "source": [
    "cols = [\"name\", \"address\"]\n",
    "cols_join = ', '.join(cols)\n",
    "query_params = (\"назв1\", \"адрес1\")\n",
    "query_text = f\"INSERT INTO {table} ({cols_join}) VALUES (%s, %s)\"\n",
    "\n",
    "query_into(query_text, query_params)"
   ]
  },
  {
   "cell_type": "code",
   "execution_count": null,
   "metadata": {},
   "outputs": [],
   "source": []
  }
 ],
 "metadata": {
  "kernelspec": {
   "display_name": "Python 3",
   "language": "python",
   "name": "python3"
  },
  "language_info": {
   "codemirror_mode": {
    "name": "ipython",
    "version": 3
   },
   "file_extension": ".py",
   "mimetype": "text/x-python",
   "name": "python",
   "nbconvert_exporter": "python",
   "pygments_lexer": "ipython3",
   "version": "3.7.3"
  }
 },
 "nbformat": 4,
 "nbformat_minor": 4
}
